{
 "cells": [
  {
   "cell_type": "code",
   "execution_count": 1,
   "id": "553e06af",
   "metadata": {},
   "outputs": [],
   "source": [
    "import pandas as pd\n",
    "\n",
    "# Load original dataset\n",
    "df = pd.read_csv(\"creditcard.csv\")\n",
    "\n",
    "# Check how many fraud cases exist\n",
    "fraud_df = df[df['Class'] == 1]\n",
    "nonfraud_df = df[df['Class'] == 0]\n",
    "\n",
    "# Sample enough non-fraud cases to make total 10,000 rows\n",
    "desired_total = 10000\n",
    "sampled_nonfraud = nonfraud_df.sample(n=desired_total - len(fraud_df), random_state=42)\n",
    "\n",
    "# Combine both\n",
    "balanced_df = pd.concat([fraud_df, sampled_nonfraud]).sample(frac=1, random_state=42).reset_index(drop=True)\n",
    "\n",
    "# Save to CSV\n",
    "balanced_df.to_csv(\"creditcard_10k_balanced.csv\", index=False)"
   ]
  },
  {
   "cell_type": "code",
   "execution_count": null,
   "id": "f1d2eaf2",
   "metadata": {},
   "outputs": [],
   "source": []
  },
  {
   "cell_type": "code",
   "execution_count": null,
   "id": "180bf772",
   "metadata": {},
   "outputs": [],
   "source": []
  }
 ],
 "metadata": {
  "kernelspec": {
   "display_name": "Python 3 (ipykernel)",
   "language": "python",
   "name": "python3"
  },
  "language_info": {
   "codemirror_mode": {
    "name": "ipython",
    "version": 3
   },
   "file_extension": ".py",
   "mimetype": "text/x-python",
   "name": "python",
   "nbconvert_exporter": "python",
   "pygments_lexer": "ipython3",
   "version": "3.10.9"
  }
 },
 "nbformat": 4,
 "nbformat_minor": 5
}
