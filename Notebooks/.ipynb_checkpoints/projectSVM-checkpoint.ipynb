{
 "cells": [
  {
   "cell_type": "code",
   "execution_count": 1,
   "id": "270a67ef",
   "metadata": {},
   "outputs": [],
   "source": [
    "import pandas as pd\n",
    "import numpy as np\n",
    "import mlflow\n",
    "import mlflow.sklearn\n",
    "import joblib\n",
    "from sklearn.model_selection import train_test_split\n",
    "from sklearn.preprocessing import StandardScaler\n",
    "from sklearn.svm import SVC\n",
    "from lightgbm import LGBMClassifier\n",
    "from sklearn.metrics import accuracy_score, precision_score, recall_score, f1_score\n",
    "import os"
   ]
  },
  {
   "cell_type": "code",
   "execution_count": 2,
   "id": "3e45bb18",
   "metadata": {},
   "outputs": [],
   "source": [
    "data_path = 'creditcard_10k_balanced.csv'\n",
    "df = pd.read_csv(data_path)\n",
    "# df = df.sample(n=10000, random_state=42)"
   ]
  },
  {
   "cell_type": "code",
   "execution_count": 3,
   "id": "77f02104",
   "metadata": {},
   "outputs": [
    {
     "data": {
      "text/plain": [
       "(10000, 31)"
      ]
     },
     "execution_count": 3,
     "metadata": {},
     "output_type": "execute_result"
    }
   ],
   "source": [
    "df.shape"
   ]
  },
  {
   "cell_type": "code",
   "execution_count": 4,
   "id": "2989ab3c",
   "metadata": {},
   "outputs": [
    {
     "data": {
      "text/html": [
       "<div>\n",
       "<style scoped>\n",
       "    .dataframe tbody tr th:only-of-type {\n",
       "        vertical-align: middle;\n",
       "    }\n",
       "\n",
       "    .dataframe tbody tr th {\n",
       "        vertical-align: top;\n",
       "    }\n",
       "\n",
       "    .dataframe thead th {\n",
       "        text-align: right;\n",
       "    }\n",
       "</style>\n",
       "<table border=\"1\" class=\"dataframe\">\n",
       "  <thead>\n",
       "    <tr style=\"text-align: right;\">\n",
       "      <th></th>\n",
       "      <th>Time</th>\n",
       "      <th>V1</th>\n",
       "      <th>V2</th>\n",
       "      <th>V3</th>\n",
       "      <th>V4</th>\n",
       "      <th>V5</th>\n",
       "      <th>V6</th>\n",
       "      <th>V7</th>\n",
       "      <th>V8</th>\n",
       "      <th>V9</th>\n",
       "      <th>...</th>\n",
       "      <th>V21</th>\n",
       "      <th>V22</th>\n",
       "      <th>V23</th>\n",
       "      <th>V24</th>\n",
       "      <th>V25</th>\n",
       "      <th>V26</th>\n",
       "      <th>V27</th>\n",
       "      <th>V28</th>\n",
       "      <th>Amount</th>\n",
       "      <th>Class</th>\n",
       "    </tr>\n",
       "  </thead>\n",
       "  <tbody>\n",
       "    <tr>\n",
       "      <th>0</th>\n",
       "      <td>81072.0</td>\n",
       "      <td>0.152504</td>\n",
       "      <td>-0.529875</td>\n",
       "      <td>1.176965</td>\n",
       "      <td>-1.202292</td>\n",
       "      <td>-0.797599</td>\n",
       "      <td>0.360677</td>\n",
       "      <td>-0.748678</td>\n",
       "      <td>0.153178</td>\n",
       "      <td>-2.342317</td>\n",
       "      <td>...</td>\n",
       "      <td>-0.257429</td>\n",
       "      <td>-0.426723</td>\n",
       "      <td>-0.139358</td>\n",
       "      <td>-0.987510</td>\n",
       "      <td>0.172512</td>\n",
       "      <td>0.135781</td>\n",
       "      <td>0.012291</td>\n",
       "      <td>-0.062251</td>\n",
       "      <td>26.00</td>\n",
       "      <td>0</td>\n",
       "    </tr>\n",
       "    <tr>\n",
       "      <th>1</th>\n",
       "      <td>32563.0</td>\n",
       "      <td>-2.198490</td>\n",
       "      <td>1.111433</td>\n",
       "      <td>0.962725</td>\n",
       "      <td>2.770526</td>\n",
       "      <td>0.265426</td>\n",
       "      <td>1.730794</td>\n",
       "      <td>-0.505490</td>\n",
       "      <td>-2.987673</td>\n",
       "      <td>-1.322962</td>\n",
       "      <td>...</td>\n",
       "      <td>3.052520</td>\n",
       "      <td>-0.083206</td>\n",
       "      <td>0.490815</td>\n",
       "      <td>-0.266094</td>\n",
       "      <td>-0.420221</td>\n",
       "      <td>0.340255</td>\n",
       "      <td>0.667370</td>\n",
       "      <td>-0.063418</td>\n",
       "      <td>136.90</td>\n",
       "      <td>0</td>\n",
       "    </tr>\n",
       "    <tr>\n",
       "      <th>2</th>\n",
       "      <td>27304.0</td>\n",
       "      <td>-3.532802</td>\n",
       "      <td>-2.228579</td>\n",
       "      <td>-0.903098</td>\n",
       "      <td>3.380612</td>\n",
       "      <td>0.658313</td>\n",
       "      <td>0.899873</td>\n",
       "      <td>1.017552</td>\n",
       "      <td>0.481798</td>\n",
       "      <td>-1.527926</td>\n",
       "      <td>...</td>\n",
       "      <td>0.135297</td>\n",
       "      <td>-0.083653</td>\n",
       "      <td>-0.024973</td>\n",
       "      <td>-1.254693</td>\n",
       "      <td>-0.267784</td>\n",
       "      <td>0.246260</td>\n",
       "      <td>0.618960</td>\n",
       "      <td>-0.047699</td>\n",
       "      <td>526.19</td>\n",
       "      <td>0</td>\n",
       "    </tr>\n",
       "    <tr>\n",
       "      <th>3</th>\n",
       "      <td>82271.0</td>\n",
       "      <td>1.253673</td>\n",
       "      <td>0.100741</td>\n",
       "      <td>-0.198298</td>\n",
       "      <td>1.077423</td>\n",
       "      <td>0.457483</td>\n",
       "      <td>0.596458</td>\n",
       "      <td>-0.006270</td>\n",
       "      <td>0.114836</td>\n",
       "      <td>0.501890</td>\n",
       "      <td>...</td>\n",
       "      <td>-0.199677</td>\n",
       "      <td>-0.377854</td>\n",
       "      <td>-0.230479</td>\n",
       "      <td>-1.340867</td>\n",
       "      <td>0.822117</td>\n",
       "      <td>-0.223347</td>\n",
       "      <td>0.032285</td>\n",
       "      <td>0.000885</td>\n",
       "      <td>12.99</td>\n",
       "      <td>0</td>\n",
       "    </tr>\n",
       "    <tr>\n",
       "      <th>4</th>\n",
       "      <td>141715.0</td>\n",
       "      <td>-0.186972</td>\n",
       "      <td>1.083575</td>\n",
       "      <td>-0.393382</td>\n",
       "      <td>1.096913</td>\n",
       "      <td>1.929655</td>\n",
       "      <td>-0.722338</td>\n",
       "      <td>1.385346</td>\n",
       "      <td>-0.378026</td>\n",
       "      <td>-0.594949</td>\n",
       "      <td>...</td>\n",
       "      <td>0.004281</td>\n",
       "      <td>0.254329</td>\n",
       "      <td>-0.353016</td>\n",
       "      <td>0.470720</td>\n",
       "      <td>0.165008</td>\n",
       "      <td>-0.405059</td>\n",
       "      <td>0.004793</td>\n",
       "      <td>-0.023925</td>\n",
       "      <td>1.00</td>\n",
       "      <td>0</td>\n",
       "    </tr>\n",
       "  </tbody>\n",
       "</table>\n",
       "<p>5 rows × 31 columns</p>\n",
       "</div>"
      ],
      "text/plain": [
       "       Time        V1        V2        V3        V4        V5        V6  \\\n",
       "0   81072.0  0.152504 -0.529875  1.176965 -1.202292 -0.797599  0.360677   \n",
       "1   32563.0 -2.198490  1.111433  0.962725  2.770526  0.265426  1.730794   \n",
       "2   27304.0 -3.532802 -2.228579 -0.903098  3.380612  0.658313  0.899873   \n",
       "3   82271.0  1.253673  0.100741 -0.198298  1.077423  0.457483  0.596458   \n",
       "4  141715.0 -0.186972  1.083575 -0.393382  1.096913  1.929655 -0.722338   \n",
       "\n",
       "         V7        V8        V9  ...       V21       V22       V23       V24  \\\n",
       "0 -0.748678  0.153178 -2.342317  ... -0.257429 -0.426723 -0.139358 -0.987510   \n",
       "1 -0.505490 -2.987673 -1.322962  ...  3.052520 -0.083206  0.490815 -0.266094   \n",
       "2  1.017552  0.481798 -1.527926  ...  0.135297 -0.083653 -0.024973 -1.254693   \n",
       "3 -0.006270  0.114836  0.501890  ... -0.199677 -0.377854 -0.230479 -1.340867   \n",
       "4  1.385346 -0.378026 -0.594949  ...  0.004281  0.254329 -0.353016  0.470720   \n",
       "\n",
       "        V25       V26       V27       V28  Amount  Class  \n",
       "0  0.172512  0.135781  0.012291 -0.062251   26.00      0  \n",
       "1 -0.420221  0.340255  0.667370 -0.063418  136.90      0  \n",
       "2 -0.267784  0.246260  0.618960 -0.047699  526.19      0  \n",
       "3  0.822117 -0.223347  0.032285  0.000885   12.99      0  \n",
       "4  0.165008 -0.405059  0.004793 -0.023925    1.00      0  \n",
       "\n",
       "[5 rows x 31 columns]"
      ]
     },
     "execution_count": 4,
     "metadata": {},
     "output_type": "execute_result"
    }
   ],
   "source": [
    "df.head()"
   ]
  },
  {
   "cell_type": "code",
   "execution_count": 7,
   "id": "8bf35bb5",
   "metadata": {},
   "outputs": [
    {
     "data": {
      "text/html": [
       "<div>\n",
       "<style scoped>\n",
       "    .dataframe tbody tr th:only-of-type {\n",
       "        vertical-align: middle;\n",
       "    }\n",
       "\n",
       "    .dataframe tbody tr th {\n",
       "        vertical-align: top;\n",
       "    }\n",
       "\n",
       "    .dataframe thead th {\n",
       "        text-align: right;\n",
       "    }\n",
       "</style>\n",
       "<table border=\"1\" class=\"dataframe\">\n",
       "  <thead>\n",
       "    <tr style=\"text-align: right;\">\n",
       "      <th></th>\n",
       "      <th>Time</th>\n",
       "      <th>V1</th>\n",
       "      <th>V2</th>\n",
       "      <th>V3</th>\n",
       "      <th>V4</th>\n",
       "      <th>V5</th>\n",
       "      <th>V6</th>\n",
       "      <th>V7</th>\n",
       "      <th>V8</th>\n",
       "      <th>V9</th>\n",
       "      <th>...</th>\n",
       "      <th>V21</th>\n",
       "      <th>V22</th>\n",
       "      <th>V23</th>\n",
       "      <th>V24</th>\n",
       "      <th>V25</th>\n",
       "      <th>V26</th>\n",
       "      <th>V27</th>\n",
       "      <th>V28</th>\n",
       "      <th>Amount</th>\n",
       "      <th>Class</th>\n",
       "    </tr>\n",
       "  </thead>\n",
       "  <tbody>\n",
       "  </tbody>\n",
       "</table>\n",
       "<p>0 rows × 31 columns</p>\n",
       "</div>"
      ],
      "text/plain": [
       "Empty DataFrame\n",
       "Columns: [Time, V1, V2, V3, V4, V5, V6, V7, V8, V9, V10, V11, V12, V13, V14, V15, V16, V17, V18, V19, V20, V21, V22, V23, V24, V25, V26, V27, V28, Amount, Class]\n",
       "Index: []\n",
       "\n",
       "[0 rows x 31 columns]"
      ]
     },
     "execution_count": 7,
     "metadata": {},
     "output_type": "execute_result"
    }
   ],
   "source": [
    "df[2:1]"
   ]
  },
  {
   "cell_type": "code",
   "execution_count": 6,
   "id": "b60b89a4",
   "metadata": {},
   "outputs": [],
   "source": [
    "target_column = df.columns[-1]\n",
    "X = df.drop(columns=[target_column])\n",
    "y = df[target_column]"
   ]
  },
  {
   "cell_type": "code",
   "execution_count": 7,
   "id": "5f3913a0",
   "metadata": {},
   "outputs": [],
   "source": [
    "# X_train, X_test, y_train, y_test = train_test_split(X, y, test_size=0.2, random_state=42)\n",
    "X_train, X_test, y_train, y_test = train_test_split(\n",
    "    X, y, test_size=0.2, stratify=y, random_state=42)"
   ]
  },
  {
   "cell_type": "code",
   "execution_count": 8,
   "id": "8694a389",
   "metadata": {},
   "outputs": [],
   "source": [
    "scaler = StandardScaler()\n",
    "X_train = scaler.fit_transform(X_train)\n",
    "X_test = scaler.transform(X_test)"
   ]
  },
  {
   "cell_type": "code",
   "execution_count": 9,
   "id": "3145f81b",
   "metadata": {},
   "outputs": [
    {
     "data": {
      "text/plain": [
       "<Experiment: artifact_location='file:///C:/Users/Annish/Documents/MLflow/mlruns/808561087966813408', creation_time=1743701534301, experiment_id='808561087966813408', last_update_time=1743701534301, lifecycle_stage='active', name='mlaas_model_comparison', tags={}>"
      ]
     },
     "execution_count": 9,
     "metadata": {},
     "output_type": "execute_result"
    }
   ],
   "source": [
    "mlflow.set_experiment(\"mlaas_model_comparison\")"
   ]
  },
  {
   "cell_type": "code",
   "execution_count": 10,
   "id": "835a211c",
   "metadata": {},
   "outputs": [],
   "source": [
    "best_model = None\n",
    "best_score = 0\n",
    "best_model_name = \"\""
   ]
  },
  {
   "cell_type": "code",
   "execution_count": 11,
   "id": "40bdf664",
   "metadata": {},
   "outputs": [],
   "source": [
    "models = {\n",
    "    \"SVM\": SVC(probability=True),\n",
    "    \"LightGBM\": LGBMClassifier(class_weight='balanced')\n",
    "}\n"
   ]
  },
  {
   "cell_type": "code",
   "execution_count": null,
   "id": "54e68773",
   "metadata": {},
   "outputs": [
    {
     "name": "stdout",
     "output_type": "stream",
     "text": [
      "[LightGBM] [Info] Number of positive: 394, number of negative: 7606\n",
      "[LightGBM] [Info] Auto-choosing col-wise multi-threading, the overhead of testing was 0.000668 seconds.\n",
      "You can set `force_col_wise=true` to remove the overhead.\n",
      "[LightGBM] [Info] Total Bins 7650\n",
      "[LightGBM] [Info] Number of data points in the train set: 8000, number of used features: 30\n",
      "[LightGBM] [Info] [binary:BoostFromScore]: pavg=0.500000 -> initscore=0.000000\n",
      "[LightGBM] [Info] Start training from score 0.000000\n"
     ]
    }
   ],
   "source": [
    "for model_name, model in models.items():\n",
    "    with mlflow.start_run():\n",
    "        # Train model\n",
    "        model.fit(X_train, y_train)\n",
    "        y_pred = model.predict(X_test)\n",
    "        \n",
    "        # Evaluate\n",
    "        accuracy = accuracy_score(y_test, y_pred)\n",
    "        precision = precision_score(y_test, y_pred, average='macro')\n",
    "        recall = recall_score(y_test, y_pred, average='macro')\n",
    "        f1 = f1_score(y_test, y_pred, average='macro')\n",
    "        \n",
    "        # Log metrics\n",
    "        mlflow.log_param(\"model\", model_name)\n",
    "        mlflow.log_metric(\"accuracy\", accuracy)\n",
    "        mlflow.log_metric(\"precision\", precision)\n",
    "        mlflow.log_metric(\"recall\", recall)\n",
    "        mlflow.log_metric(\"f1_score\", f1)\n",
    "        \n",
    "        # Save best model  \n",
    "        if accuracy > best_score:\n",
    "            best_score = accuracy\n",
    "            best_model = model\n",
    "            best_model_name = model_name\n",
    "            joblib.dump(model, \"Notebooks/best_model.pkl\")"
   ]
  },
  {
   "cell_type": "code",
   "execution_count": 13,
   "id": "c64aa27d",
   "metadata": {},
   "outputs": [
    {
     "name": "stderr",
     "output_type": "stream",
     "text": [
      "2025/04/05 19:54:11 WARNING mlflow.models.model: Model logged without a signature and input example. Please set `input_example` parameter when logging the model to auto infer the model signature.\n"
     ]
    },
    {
     "name": "stdout",
     "output_type": "stream",
     "text": [
      "Best model: LightGBM with Accuracy: 0.991\n"
     ]
    }
   ],
   "source": [
    "# Save best model\n",
    "if best_model:\n",
    "    mlflow.sklearn.log_model(best_model, \"best_model\")\n",
    "    print(f\"Best model: {best_model_name} with Accuracy: {best_score}\")"
   ]
  },
  {
   "cell_type": "code",
   "execution_count": null,
   "id": "0a1744b1",
   "metadata": {},
   "outputs": [],
   "source": []
  },
  {
   "cell_type": "code",
   "execution_count": null,
   "id": "03d89a0b",
   "metadata": {},
   "outputs": [],
   "source": []
  },
  {
   "cell_type": "code",
   "execution_count": null,
   "id": "79c577be",
   "metadata": {},
   "outputs": [],
   "source": []
  },
  {
   "cell_type": "code",
   "execution_count": null,
   "id": "9e8cbab9",
   "metadata": {},
   "outputs": [],
   "source": []
  }
 ],
 "metadata": {
  "kernelspec": {
   "display_name": "Python 3 (ipykernel)",
   "language": "python",
   "name": "python3"
  },
  "language_info": {
   "codemirror_mode": {
    "name": "ipython",
    "version": 3
   },
   "file_extension": ".py",
   "mimetype": "text/x-python",
   "name": "python",
   "nbconvert_exporter": "python",
   "pygments_lexer": "ipython3",
   "version": "3.10.9"
  }
 },
 "nbformat": 4,
 "nbformat_minor": 5
}
